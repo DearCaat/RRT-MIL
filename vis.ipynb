{
 "cells": [
  {
   "cell_type": "code",
   "execution_count": null,
   "metadata": {},
   "outputs": [],
   "source": [
    "from modules import rrt,attmil\n",
    "import torch\n",
    "import seaborn as sns\n",
    "import numpy as np\n",
    "\n",
    "from vis_utils import *\n",
    "import h5py\n",
    "from xml.dom.minidom import parse\n",
    "import xml.dom.minidom\n",
    "from openTSNE import TSNE\n",
    "from shapely.geometry import Polygon\n",
    "from copy import deepcopy"
   ]
  },
  {
   "cell_type": "markdown",
   "metadata": {},
   "source": [
    "## Function"
   ]
  },
  {
   "cell_type": "code",
   "execution_count": null,
   "metadata": {},
   "outputs": [],
   "source": [
    "def read_annotation(anno_file,return_type=False):\n",
    "    anno_tumor = []\n",
    "    anno_normal = []\n",
    "    anno_type = set()\n",
    "    # 使用minidom解析器打开 XML 文档\n",
    "    DOMTree = xml.dom.minidom.parse(anno_file)\n",
    "    annotations = DOMTree.documentElement.getElementsByTagName('Annotations')[0].getElementsByTagName('Annotation')\n",
    "    for i in range(len(annotations)):\n",
    "        anno_type.add(annotations[i].getAttribute('PartOfGroup'))\n",
    "        if annotations[i].getAttribute('PartOfGroup') == 'Exclusion':\n",
    "            coordinates = annotations[i].getElementsByTagName('Coordinates')\n",
    "            _tmp = []\n",
    "            for node in coordinates[0].childNodes:\n",
    "                if type(node) == xml.dom.minidom.Element:\n",
    "                    _tmp.append([int(float(node.getAttribute(\"X\"))),int(float(node.getAttribute(\"Y\")))])\n",
    "\n",
    "            anno_normal.append(_tmp)\n",
    "        elif annotations[i].getAttribute('PartOfGroup') != 'None':\n",
    "            coordinates = annotations[i].getElementsByTagName('Coordinates')\n",
    "            _tmp = []\n",
    "            for node in coordinates[0].childNodes:\n",
    "                if type(node) == xml.dom.minidom.Element:\n",
    "                    _tmp.append([int(float(node.getAttribute(\"X\"))),int(float(node.getAttribute(\"Y\")))])\n",
    "\n",
    "            anno_tumor.append(_tmp)\n",
    "    if return_type:\n",
    "        return anno_tumor,anno_normal,anno_type\n",
    "    else:\n",
    "        return anno_tumor,anno_normal"
   ]
  },
  {
   "cell_type": "code",
   "execution_count": null,
   "metadata": {},
   "outputs": [],
   "source": [
    "def get_label(coords,anno_file,_l=None):\n",
    "    if anno_file is None:\n",
    "        return None\n",
    "    label = []\n",
    "    annos_tumor,annos_normal = read_annotation(anno_file)\n",
    "    annos_tumor_polygon = [ Polygon(_anno) for _anno in annos_tumor ]\n",
    "    annos_normal_polygon = [ Polygon(_anno) for _anno in annos_normal ]\n",
    "    annos_tumor_in_normal_idx = []\n",
    "    \n",
    "    # 有一部分tumor是在exclusion里面，需要区别出这些tumor出来\n",
    "    for idx,_anno in enumerate(annos_tumor_polygon):\n",
    "        for _anno_1 in annos_normal_polygon:\n",
    "            if _anno.covered_by(_anno_1):\n",
    "                annos_tumor_in_normal_idx.append(idx)\n",
    "    \n",
    "    for coord in coords:\n",
    "        _patch = Polygon([coord,[coord[0]+512,coord[1]],[coord[0]+512,coord[1]+512],[coord[0],coord[1]+512]])\n",
    "        _flag = 0\n",
    "        _flag_always = 0\n",
    "        for idx,_anno in enumerate(annos_tumor_polygon):\n",
    "            if _patch.intersects(_anno):\n",
    "                _flag = 1\n",
    "                if idx in annos_tumor_in_normal_idx:\n",
    "                    _flag_always = 1\n",
    "        if not _flag_always:\n",
    "            for _anno_1 in annos_normal_polygon:\n",
    "                if _patch.intersects(_anno_1):\n",
    "                    _flag = 0\n",
    "                \n",
    "        if _flag:\n",
    "            #label.append(1)\n",
    "            if _l is not None:\n",
    "                label.append(0)\n",
    "            else:\n",
    "                label.append(1)\n",
    "        else:\n",
    "            label.append(0)\n",
    "    label = np.array(label)\n",
    "\n",
    "    if _l is not None:\n",
    "        #label[np.array(label == 0) * np.array(_l > 0)] = 1\n",
    "        label[np.array(_l > 0)] = 1\n",
    "        \n",
    "    return label"
   ]
  },
  {
   "cell_type": "code",
   "execution_count": null,
   "metadata": {},
   "outputs": [],
   "source": [
    "def plot(\n",
    "    x,\n",
    "    y,\n",
    "    ax=None,\n",
    "    title=None,\n",
    "    draw_legend=True,\n",
    "    draw_centers=False,\n",
    "    draw_cluster_labels=False,\n",
    "    colors=None,\n",
    "    legend_kwargs=None,\n",
    "    label_order=None,\n",
    "    **kwargs\n",
    "):\n",
    "    import matplotlib\n",
    "\n",
    "    if ax is None:\n",
    "        _, ax = matplotlib.pyplot.subplots(figsize=(8, 8))\n",
    "\n",
    "    if title is not None:\n",
    "        ax.set_title(title)\n",
    "\n",
    "    #plot_params = {\"alpha\": kwargs.get(\"alpha\", 0.6), \"s\": kwargs.get(\"s\", 1)}\n",
    "    plot_params = {\"alpha\": kwargs.get(\"alpha\", 0.8)}\n",
    "\n",
    "    # Create main plot\n",
    "    if label_order is not None:\n",
    "        assert all(np.isin(np.unique(y), label_order))\n",
    "        classes = [l for l in label_order if l in np.unique(y)]\n",
    "    else:\n",
    "        classes = np.unique(y)\n",
    "    if colors is None:\n",
    "        default_colors = matplotlib.rcParams[\"axes.prop_cycle\"]\n",
    "        colors = {k: v[\"color\"] for k, v in zip(classes, default_colors())}\n",
    "\n",
    "    point_colors = list(map(colors.get, y))\n",
    "\n",
    "    size = deepcopy(y)\n",
    "    point_size = deepcopy(y)\n",
    "    point_size[size != 1] = 1\n",
    "    point_size[size == 1] = 50\n",
    "    point_size[size == 2] = 1\n",
    "    \n",
    "\n",
    "    fig=ax.scatter(x[:, 0], x[:, 1], c=point_colors, rasterized=True, s=point_size,**plot_params)\n",
    "    \n",
    "    # Plot mediods\n",
    "    if draw_centers:\n",
    "        centers = []\n",
    "        for yi in classes:\n",
    "            mask = yi == y\n",
    "            centers.append(np.median(x[mask, :2], axis=0))\n",
    "        centers = np.array(centers)\n",
    "\n",
    "        center_colors = list(map(colors.get, classes))\n",
    "        ax.scatter(\n",
    "            centers[:, 0], centers[:, 1], c=center_colors, s=48, alpha=1, edgecolor=\"k\"\n",
    "        )\n",
    "\n",
    "        # Draw mediod labels\n",
    "        if draw_cluster_labels:\n",
    "            for idx, label in enumerate(classes):\n",
    "                ax.text(\n",
    "                    centers[idx, 0],\n",
    "                    centers[idx, 1] + 2.2,\n",
    "                    label+': '+str(len(x)),\n",
    "                    fontsize=kwargs.get(\"fontsize\", 6),\n",
    "                    horizontalalignment=\"center\",\n",
    "                )\n",
    "\n",
    "    # Hide ticks and axis\n",
    "    ax.set_xticks([]), ax.set_yticks([]), ax.axis(\"off\")\n",
    "\n",
    "    if draw_legend:\n",
    "        legend_handles = [\n",
    "            matplotlib.lines.Line2D(\n",
    "                [],\n",
    "                [],\n",
    "                marker=\"s\",\n",
    "                color=\"w\",\n",
    "                markerfacecolor=colors[yi],\n",
    "                ms=10,\n",
    "                alpha=1,\n",
    "                linewidth=0,\n",
    "                label=str(yi)+': '+str(len(y[y ==yi])),\n",
    "                markeredgecolor=\"k\",\n",
    "            )\n",
    "            for yi in classes\n",
    "        ]\n",
    "        legend_kwargs_ = dict(loc=\"center left\", bbox_to_anchor=(1, 0.5), frameon=False, )\n",
    "        if legend_kwargs is not None:\n",
    "            legend_kwargs_.update(legend_kwargs)\n",
    "        ax.legend(handles=legend_handles, **legend_kwargs_)\n",
    "    \n",
    "    return fig"
   ]
  },
  {
   "cell_type": "code",
   "execution_count": null,
   "metadata": {},
   "outputs": [],
   "source": [
    "def tsne(feat,coords=None,anno_file=None,_l=None,**kwargs):\n",
    "    try:\n",
    "        label = get_label(coords,anno_file,_l)\n",
    "    except:\n",
    "        label = None\n",
    "    #label = get_label(coords,anno_file,_l)\n",
    "    embedding = TSNE(n_jobs=8).fit(feat)\n",
    "    y = label if label is not None else np.array([1 for i in range(len(embedding))])\n",
    "    return plot(embedding,y,**kwargs)"
   ]
  },
  {
   "cell_type": "markdown",
   "metadata": {},
   "source": [
    "## Init"
   ]
  },
  {
   "cell_type": "code",
   "execution_count": null,
   "metadata": {},
   "outputs": [],
   "source": [
    "_rrt = rrt.RRTMIL(pos='none',attn='rrt',ic=True,n_layers=2,da_act='tanh',trans_conv=True,moe_fl_enable=False,moe_mlp=False,input_dim=1024,moe_mask_diag=False,minmax_weight=True,moe_k=1,all_shortcut=True,l2_n_heads=8,l1_shortcut=True,conv_k=15).eval().requires_grad_(False)\n",
    "\n",
    "cpt = torch.load('/data/tangwenhao/output/mil/mil_clam_c16_other/rrt_attn_convk15_N1SCsmoe_l2mm/fold_1_model_best_auc.pt')\n",
    "_rrt.load_state_dict(cpt['model'],strict=False)"
   ]
  },
  {
   "cell_type": "code",
   "execution_count": null,
   "metadata": {},
   "outputs": [],
   "source": [
    "_ntrans = rrt.RRTMIL(pos='none',attn='ntrans',n_layers=1,da_act='tanh',ic=True,all_shortcut=False).eval().requires_grad_(False)\n",
    "\n",
    "cpt = torch.load('/data/tangwenhao/output/mil/mil_clam_c16_other/ntrans_attn/fold_1_model_best_auc.pt')\n",
    "_ntrans.load_state_dict(cpt['model'],strict=False)"
   ]
  },
  {
   "cell_type": "code",
   "execution_count": null,
   "metadata": {},
   "outputs": [],
   "source": [
    "_abmil = attmil.DAttention(2,dropout=True,act='relu',test=False,input_dim=1024).eval().requires_grad_(False)\n",
    "\n",
    "cpt = torch.load('/home/tangwenhao/code/mil/vis/attn_seed2021_fold_1_model_best_auc.pt')\n",
    "_abmil.load_state_dict(cpt['model'],strict=False)\n",
    "\n",
    "_abmil_plip = attmil.DAttention(2,dropout=True,act='relu',test=False,input_dim=512).eval().requires_grad_(False)\n",
    "\n",
    "cpt = torch.load('/data/tangwenhao/output/mil/mil_clam_c16_other/plip_abmil/fold_1_model_best_auc.pt')\n",
    "_abmil_plip.load_state_dict(cpt['model'],strict=False)"
   ]
  },
  {
   "cell_type": "code",
   "execution_count": null,
   "metadata": {},
   "outputs": [],
   "source": [
    "_f = 'TCGA-33-4532-01Z-00-DX1.32ab8c26-7cdc-4e55-8c70-5a35d83f81a2'\n",
    "feat = torch.load('/nas/zhangxiaoxian/tcga/zft/pt_files/'+_f+'.pt')\n",
    "coords = None\n",
    "print(feat.size())\n",
    "label = None"
   ]
  },
  {
   "cell_type": "code",
   "execution_count": null,
   "metadata": {},
   "outputs": [],
   "source": [
    "_f = 'test_040'\n",
    "plip_feat = torch.load('/data/tangwenhao/c16_clam_bio_seg/plip/pt/'+_f+'.pt')\n",
    "patch = h5py.File('/home/tangwenhao/dataset/mil/c16_clam_bio_seg/h5/'+_f+'.h5',\"r\")\n",
    "feat = torch.Tensor(patch['features'])\n",
    "coords = patch['coords']\n",
    "print(feat.size())\n",
    "label = get_label(coords,\"/home/tangwenhao/dataset/mil/c16_clam_bio_seg/vis/c_16_lesion_annotation/\"+_f+\".xml\")\n",
    "print(len(label[label==0]),len(label[label==1]))"
   ]
  },
  {
   "cell_type": "markdown",
   "metadata": {},
   "source": [
    "## Attention Distributions"
   ]
  },
  {
   "cell_type": "markdown",
   "metadata": {},
   "source": [
    "### Ntrans"
   ]
  },
  {
   "cell_type": "code",
   "execution_count": null,
   "metadata": {},
   "outputs": [],
   "source": [
    "with torch.no_grad():\n",
    "    x,attns = _ntrans(feat.unsqueeze(0),return_attn=True)\n",
    "print(torch.nn.functional.softmax(x,dim=-1))\n",
    "\n",
    "_a = attns[0]\n",
    "_a,_ = torch.sort(_a,descending=True)\n",
    "sns.scatterplot(x=np.array(list(range(_a.size(0)))),y=_a,s=100,alpha=0.6)"
   ]
  },
  {
   "cell_type": "markdown",
   "metadata": {},
   "source": [
    "### ABMIL w/ PLIP"
   ]
  },
  {
   "cell_type": "code",
   "execution_count": null,
   "metadata": {},
   "outputs": [],
   "source": [
    "with torch.no_grad():\n",
    "    x,attns = _abmil_plip.forward(plip_feat.unsqueeze(0),return_attn=True)\n",
    "print(torch.nn.functional.softmax(x,dim=-1))\n",
    "\n",
    "_a = attns[0]\n",
    "_a,_ = torch.sort(_a,descending=True)\n",
    "sns.scatterplot(x=np.array(list(range(_a.size(0)))),y=_a,s=100,alpha=0.6)"
   ]
  },
  {
   "cell_type": "markdown",
   "metadata": {},
   "source": [
    "### ABMIL w/ R50"
   ]
  },
  {
   "cell_type": "code",
   "execution_count": null,
   "metadata": {},
   "outputs": [],
   "source": [
    "with torch.no_grad():\n",
    "    x,attns = _abmil.forward(feat.unsqueeze(0),return_attn=True)\n",
    "print(torch.nn.functional.softmax(x,dim=-1))\n",
    "\n",
    "_a = attns[0]\n",
    "_a,_ = torch.sort(_a,descending=True)\n",
    "sns.scatterplot(x=np.array(list(range(_a.size(0)))),y=_a,s=100,alpha=0.6)"
   ]
  },
  {
   "cell_type": "markdown",
   "metadata": {},
   "source": [
    "### RRT-MIL"
   ]
  },
  {
   "cell_type": "code",
   "execution_count": null,
   "metadata": {},
   "outputs": [],
   "source": [
    "with torch.no_grad():\n",
    "    x,attns,trans_attns = _rrt.forward(feat.unsqueeze(0),return_attn=True,return_trans_attn=True)\n",
    "print(torch.nn.functional.softmax(x,dim=-1))\n",
    "\n",
    "#_a = torch.nn.functional.softmax(attns[0])\n",
    "_a = attns[0]\n",
    "_a,_ = torch.sort(_a,descending=True)\n",
    "sns.scatterplot(x=np.array(list(range(_a.size(0)))),y=_a,s=100,alpha=0.6)"
   ]
  },
  {
   "cell_type": "markdown",
   "metadata": {},
   "source": [
    "## Feature Vis"
   ]
  },
  {
   "cell_type": "markdown",
   "metadata": {},
   "source": [
    "### PLIP Features"
   ]
  },
  {
   "cell_type": "code",
   "execution_count": null,
   "metadata": {},
   "outputs": [],
   "source": [
    "feat_vis = tsne(torch.tensor(plip_feat).squeeze(0),coords,\"/home/tangwenhao/dataset/mil/c16_clam_bio_seg/vis/c_16_lesion_annotation/\"+_f+\".xml\",draw_legend=False)\n",
    "feat_vis.get_figure().savefig('./vis_figure/ori_plip.png',dpi=300,bbox_inches='tight')"
   ]
  },
  {
   "cell_type": "markdown",
   "metadata": {},
   "source": [
    "### R50 Features"
   ]
  },
  {
   "cell_type": "code",
   "execution_count": null,
   "metadata": {},
   "outputs": [],
   "source": [
    "feat_vis = tsne(torch.tensor(feat).squeeze(0),coords,\"/home/tangwenhao/dataset/mil/c16_clam_bio_seg/vis/c_16_lesion_annotation/\"+_f+\".xml\",draw_legend=False)\n",
    "feat_vis.get_figure().savefig('./vis_figure/ori.png',dpi=300,bbox_inches='tight')"
   ]
  },
  {
   "cell_type": "markdown",
   "metadata": {},
   "source": [
    "### Features After FC in ABMIL"
   ]
  },
  {
   "cell_type": "code",
   "execution_count": null,
   "metadata": {},
   "outputs": [],
   "source": [
    "feat_fc = tsne(_abmil.feature(torch.tensor(feat).squeeze(0)),coords,\"/home/tangwenhao/dataset/mil/c16_clam_bio_seg/vis/c_16_lesion_annotation/\"+_f+\".xml\",draw_legend=False)\n",
    "feat_fc.get_figure().savefig('./vis_figure/fc.png',dpi=300,bbox_inches='tight')"
   ]
  },
  {
   "cell_type": "markdown",
   "metadata": {},
   "source": [
    "### Features After Ntrans"
   ]
  },
  {
   "cell_type": "code",
   "execution_count": null,
   "metadata": {},
   "outputs": [],
   "source": [
    "feat_ntrans = _ntrans.online_encoder(_ntrans.dp(_ntrans.patch_to_emb(torch.tensor(feat).squeeze(0))),no_pool=True)\n",
    "feat_ntrans = tsne(feat_ntrans,coords,\"/home/tangwenhao/dataset/mil/c16_clam_bio_seg/vis/c_16_lesion_annotation/\"+_f+\".xml\",draw_legend=False)\n",
    "feat_ntrans.get_figure().savefig('./vis_figure/ntrans.png',dpi=300,bbox_inches='tight')"
   ]
  },
  {
   "cell_type": "markdown",
   "metadata": {},
   "source": [
    "### Features After RRT-MIL"
   ]
  },
  {
   "cell_type": "code",
   "execution_count": null,
   "metadata": {},
   "outputs": [],
   "source": [
    "feat_rrt = _rrt.online_encoder(_rrt.dp(_rrt.patch_to_emb(torch.tensor(feat).squeeze(0))),no_pool=True)\n",
    "feat_rrt = tsne(feat_rrt,coords,\"/home/tangwenhao/dataset/mil/c16_clam_bio_seg/vis/c_16_lesion_annotation/\"+_f+\".xml\",draw_legend=False)\n",
    "feat_rrt.get_figure().savefig('./vis_figure/rrt_as.png',dpi=300,bbox_inches='tight')"
   ]
  }
 ],
 "metadata": {
  "kernelspec": {
   "display_name": "Python 3 (ipykernel)",
   "language": "python",
   "name": "python3"
  },
  "language_info": {
   "codemirror_mode": {
    "name": "ipython",
    "version": 3
   },
   "file_extension": ".py",
   "mimetype": "text/x-python",
   "name": "python",
   "nbconvert_exporter": "python",
   "pygments_lexer": "ipython3",
   "version": "3.8.10"
  },
  "orig_nbformat": 4,
  "vscode": {
   "interpreter": {
    "hash": "31f2aee4e71d21fbe5cf8b01ff0e069b9275f58929596ceb00d14d90e3e16cd6"
   }
  }
 },
 "nbformat": 4,
 "nbformat_minor": 2
}
